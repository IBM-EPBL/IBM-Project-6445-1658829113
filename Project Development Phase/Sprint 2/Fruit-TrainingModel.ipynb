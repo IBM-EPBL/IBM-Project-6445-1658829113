{
 "cells": [
  {
   "cell_type": "code",
   "execution_count": 2,
   "id": "83c9d9e6",
   "metadata": {},
   "outputs": [],
   "source": [
    "from tensorflow.keras.preprocessing.image import ImageDataGenerator"
   ]
  },
  {
   "cell_type": "code",
   "execution_count": 3,
   "id": "273658b8",
   "metadata": {},
   "outputs": [],
   "source": [
    "train_datagen=ImageDataGenerator(rescale=1./255,zoom_range=0.2,horizontal_flip=True,vertical_flip=False)"
   ]
  },
  {
   "cell_type": "code",
   "execution_count": 4,
   "id": "873eef43",
   "metadata": {},
   "outputs": [],
   "source": [
    "test_datagen=ImageDataGenerator(rescale=1./255)"
   ]
  },
  {
   "cell_type": "code",
   "execution_count": 5,
   "id": "b4d4807e",
   "metadata": {},
   "outputs": [
    {
     "name": "stdout",
     "output_type": "stream",
     "text": [
      "Found 5384 images belonging to 6 classes.\n",
      "Found 1686 images belonging to 6 classes.\n"
     ]
    }
   ],
   "source": [
    "x_train=train_datagen.flow_from_directory('fruit-dataset/f_train',\n",
    "                                          target_size=(128,128),batch_size=24,class_mode='categorical')\n",
    "x_test=test_datagen.flow_from_directory('fruit-dataset/f_test',\n",
    "                                        target_size=(128,128),batch_size=24,class_mode='categorical')"
   ]
  },
  {
   "cell_type": "code",
   "execution_count": 6,
   "id": "936f160a",
   "metadata": {},
   "outputs": [
    {
     "data": {
      "text/plain": [
       "{'Apple___Black_rot': 0,\n",
       " 'Apple___healthy': 1,\n",
       " 'Corn_(maize)___Northern_Leaf_Blight': 2,\n",
       " 'Corn_(maize)___healthy': 3,\n",
       " 'Peach___Bacterial_spot': 4,\n",
       " 'Peach___healthy': 5}"
      ]
     },
     "execution_count": 6,
     "metadata": {},
     "output_type": "execute_result"
    }
   ],
   "source": [
    "x_train.class_indices"
   ]
  },
  {
   "cell_type": "code",
   "execution_count": 7,
   "id": "f685b710",
   "metadata": {},
   "outputs": [],
   "source": [
    "from tensorflow.keras.models import Sequential\n",
    "from tensorflow.keras.layers import Dense,Convolution2D,MaxPooling2D,Flatten"
   ]
  },
  {
   "cell_type": "code",
   "execution_count": 8,
   "id": "67ad1fde",
   "metadata": {},
   "outputs": [],
   "source": [
    "model=Sequential()"
   ]
  },
  {
   "cell_type": "code",
   "execution_count": 9,
   "id": "6c3e7492",
   "metadata": {},
   "outputs": [],
   "source": [
    "model.add(Convolution2D(32,(3,3),input_shape=(128,128,3),activation='relu'))"
   ]
  },
  {
   "cell_type": "code",
   "execution_count": 10,
   "id": "abd0543e",
   "metadata": {},
   "outputs": [],
   "source": [
    "model.add(MaxPooling2D(pool_size=(2,2)))"
   ]
  },
  {
   "cell_type": "code",
   "execution_count": 11,
   "id": "5a6baee5",
   "metadata": {},
   "outputs": [],
   "source": [
    "model.add(Flatten())"
   ]
  },
  {
   "cell_type": "code",
   "execution_count": 12,
   "id": "bfb83c20",
   "metadata": {},
   "outputs": [
    {
     "name": "stdout",
     "output_type": "stream",
     "text": [
      "Model: \"sequential\"\n",
      "_________________________________________________________________\n",
      " Layer (type)                Output Shape              Param #   \n",
      "=================================================================\n",
      " conv2d (Conv2D)             (None, 126, 126, 32)      896       \n",
      "                                                                 \n",
      " max_pooling2d (MaxPooling2D  (None, 63, 63, 32)       0         \n",
      " )                                                               \n",
      "                                                                 \n",
      " flatten (Flatten)           (None, 127008)            0         \n",
      "                                                                 \n",
      "=================================================================\n",
      "Total params: 896\n",
      "Trainable params: 896\n",
      "Non-trainable params: 0\n",
      "_________________________________________________________________\n"
     ]
    }
   ],
   "source": [
    "model.summary()"
   ]
  },
  {
   "cell_type": "code",
   "execution_count": 13,
   "id": "b9884779",
   "metadata": {},
   "outputs": [],
   "source": [
    "model.add(Dense(300,activation='relu'))\n",
    "model.add(Dense(150,activation='relu'))\n",
    "model.add(Dense(6,activation='softmax'))"
   ]
  },
  {
   "cell_type": "code",
   "execution_count": 14,
   "id": "b222822d",
   "metadata": {},
   "outputs": [],
   "source": [
    "model.compile(loss='categorical_crossentropy',optimizer='adam',metrics=['accuracy'])"
   ]
  },
  {
   "cell_type": "code",
   "execution_count": 15,
   "id": "b36ab5b4",
   "metadata": {},
   "outputs": [
    {
     "name": "stdout",
     "output_type": "stream",
     "text": [
      "Epoch 1/10\n",
      "225/225 [==============================] - 158s 701ms/step - loss: 1.1387 - accuracy: 0.7624 - val_loss: 0.3235 - val_accuracy: 0.8843\n",
      "Epoch 2/10\n",
      "225/225 [==============================] - 111s 491ms/step - loss: 0.2539 - accuracy: 0.9116 - val_loss: 0.2671 - val_accuracy: 0.9039\n",
      "Epoch 3/10\n",
      "225/225 [==============================] - 118s 525ms/step - loss: 0.1975 - accuracy: 0.9329 - val_loss: 0.1724 - val_accuracy: 0.9478\n",
      "Epoch 4/10\n",
      "225/225 [==============================] - 127s 565ms/step - loss: 0.1653 - accuracy: 0.9421 - val_loss: 0.2982 - val_accuracy: 0.9004\n",
      "Epoch 5/10\n",
      "225/225 [==============================] - 127s 565ms/step - loss: 0.1533 - accuracy: 0.9461 - val_loss: 0.1494 - val_accuracy: 0.9531\n",
      "Epoch 6/10\n",
      "225/225 [==============================] - 113s 500ms/step - loss: 0.1154 - accuracy: 0.9573 - val_loss: 0.1461 - val_accuracy: 0.9520\n",
      "Epoch 7/10\n",
      "225/225 [==============================] - 114s 508ms/step - loss: 0.1154 - accuracy: 0.9625 - val_loss: 0.2850 - val_accuracy: 0.9211\n",
      "Epoch 8/10\n",
      "225/225 [==============================] - 112s 496ms/step - loss: 0.1047 - accuracy: 0.9627 - val_loss: 0.1464 - val_accuracy: 0.9591\n",
      "Epoch 9/10\n",
      "225/225 [==============================] - 107s 475ms/step - loss: 0.1242 - accuracy: 0.9567 - val_loss: 0.1058 - val_accuracy: 0.9656\n",
      "Epoch 10/10\n",
      "225/225 [==============================] - 106s 470ms/step - loss: 0.1006 - accuracy: 0.9651 - val_loss: 0.2158 - val_accuracy: 0.9312\n"
     ]
    },
    {
     "data": {
      "text/plain": [
       "<keras.callbacks.History at 0x1a4887d1940>"
      ]
     },
     "execution_count": 15,
     "metadata": {},
     "output_type": "execute_result"
    }
   ],
   "source": [
    "model.fit(x_train,steps_per_epoch=len(x_train),validation_data=x_test,validation_steps=len(x_test),epochs=10)"
   ]
  },
  {
   "cell_type": "code",
   "execution_count": 16,
   "id": "534b794e",
   "metadata": {},
   "outputs": [
    {
     "name": "stdout",
     "output_type": "stream",
     "text": [
      "71/71 - 5s - loss: 0.2158 - accuracy: 0.9312 - 5s/epoch - 67ms/step\n"
     ]
    },
    {
     "data": {
      "text/plain": [
       "0.9311981201171875"
      ]
     },
     "execution_count": 16,
     "metadata": {},
     "output_type": "execute_result"
    }
   ],
   "source": [
    "score,acc=model.evaluate(x_test,batch_size=128,verbose=2)\n",
    "acc"
   ]
  },
  {
   "cell_type": "code",
   "execution_count": 17,
   "id": "4eedcf18",
   "metadata": {},
   "outputs": [],
   "source": [
    "model.save('fruit.h5')"
   ]
  }
 ],
 "metadata": {
  "kernelspec": {
   "display_name": "Python 3 (ipykernel)",
   "language": "python",
   "name": "python3"
  },
  "language_info": {
   "codemirror_mode": {
    "name": "ipython",
    "version": 3
   },
   "file_extension": ".py",
   "mimetype": "text/x-python",
   "name": "python",
   "nbconvert_exporter": "python",
   "pygments_lexer": "ipython3",
   "version": "3.9.13"
  }
 },
 "nbformat": 4,
 "nbformat_minor": 5
}
